{
  "nbformat": 4,
  "nbformat_minor": 0,
  "metadata": {
    "colab": {
      "name": "Assignment_Yolact.ipynb",
      "provenance": [],
      "collapsed_sections": []
    },
    "kernelspec": {
      "name": "python3",
      "display_name": "Python 3"
    },
    "language_info": {
      "name": "python"
    },
    "accelerator": "GPU"
  },
  "cells": [
    {
      "cell_type": "markdown",
      "metadata": {
        "id": "I6EWSXq3po9b"
      },
      "source": [
        "***Research Areas in Computer Vision :: Evaluating the Yolact Architecture***\n",
        "\n"
      ]
    },
    {
      "cell_type": "code",
      "metadata": {
        "id": "5GrItWbc71Il",
        "colab": {
          "base_uri": "https://localhost:8080/"
        },
        "outputId": "2bf38a42-4a06-4b6b-854b-ec993ebc10c1"
      },
      "source": [
        "from google.colab import drive                        # Mounting Google Drive that contains image folders and annotations\n",
        "drive.mount('/content/drive')"
      ],
      "execution_count": null,
      "outputs": [
        {
          "output_type": "stream",
          "text": [
            "Drive already mounted at /content/drive; to attempt to forcibly remount, call drive.mount(\"/content/drive\", force_remount=True).\n"
          ],
          "name": "stdout"
        }
      ]
    },
    {
      "cell_type": "code",
      "metadata": {
        "id": "ptu-RJk_a_ea"
      },
      "source": [
        "import json, os                                       # Importing necessary python libraries\n",
        "import glob, shutil, random\n",
        "import cv2\n",
        "import numpy as np\n",
        "from matplotlib import pyplot as plt\n",
        "from pathlib import Path"
      ],
      "execution_count": null,
      "outputs": []
    },
    {
      "cell_type": "code",
      "metadata": {
        "colab": {
          "base_uri": "https://localhost:8080/"
        },
        "id": "fxyBDqPuaEk7",
        "outputId": "d7fa47d6-75e7-49e0-a187-89ba8271308f"
      },
      "source": [
        "!pip install cython                                   # Installing necessary libraries\n",
        "!pip install opencv-python pillow pycocotools matplotlib "
      ],
      "execution_count": null,
      "outputs": [
        {
          "output_type": "stream",
          "text": [
            "Requirement already satisfied: cython in /usr/local/lib/python3.7/dist-packages (0.29.23)\n",
            "Requirement already satisfied: opencv-python in /usr/local/lib/python3.7/dist-packages (4.1.2.30)\n",
            "Requirement already satisfied: pillow in /usr/local/lib/python3.7/dist-packages (7.1.2)\n",
            "Requirement already satisfied: pycocotools in /usr/local/lib/python3.7/dist-packages (2.0.2)\n",
            "Requirement already satisfied: matplotlib in /usr/local/lib/python3.7/dist-packages (3.2.2)\n",
            "Requirement already satisfied: numpy>=1.14.5 in /usr/local/lib/python3.7/dist-packages (from opencv-python) (1.19.5)\n",
            "Requirement already satisfied: cython>=0.27.3 in /usr/local/lib/python3.7/dist-packages (from pycocotools) (0.29.23)\n",
            "Requirement already satisfied: setuptools>=18.0 in /usr/local/lib/python3.7/dist-packages (from pycocotools) (56.1.0)\n",
            "Requirement already satisfied: python-dateutil>=2.1 in /usr/local/lib/python3.7/dist-packages (from matplotlib) (2.8.1)\n",
            "Requirement already satisfied: cycler>=0.10 in /usr/local/lib/python3.7/dist-packages (from matplotlib) (0.10.0)\n",
            "Requirement already satisfied: pyparsing!=2.0.4,!=2.1.2,!=2.1.6,>=2.0.1 in /usr/local/lib/python3.7/dist-packages (from matplotlib) (2.4.7)\n",
            "Requirement already satisfied: kiwisolver>=1.0.1 in /usr/local/lib/python3.7/dist-packages (from matplotlib) (1.3.1)\n",
            "Requirement already satisfied: six>=1.5 in /usr/local/lib/python3.7/dist-packages (from python-dateutil>=2.1->matplotlib) (1.15.0)\n"
          ],
          "name": "stdout"
        }
      ]
    },
    {
      "cell_type": "code",
      "metadata": {
        "colab": {
          "base_uri": "https://localhost:8080/"
        },
        "id": "wr5ajmulahQV",
        "outputId": "ac6467fe-d896-4e2d-9cc3-22ef1f1bf309"
      },
      "source": [
        "!mkdir inference_images                               # Creating necessary folders\n",
        "!mkdir output_images"
      ],
      "execution_count": null,
      "outputs": [
        {
          "output_type": "stream",
          "text": [
            "mkdir: cannot create directory ‘uploads’: File exists\n",
            "mkdir: cannot create directory ‘results’: File exists\n"
          ],
          "name": "stdout"
        }
      ]
    },
    {
      "cell_type": "code",
      "metadata": {
        "id": "LwlxpLAMaIrW"
      },
      "source": [
        "!git clone https://github.com/dbolya/yolact.git       # Cloning repository"
      ],
      "execution_count": null,
      "outputs": []
    },
    {
      "cell_type": "code",
      "metadata": {
        "colab": {
          "base_uri": "https://localhost:8080/"
        },
        "id": "QlZjpX7PaN_f",
        "outputId": "6f7fba48-3cf4-4729-d653-3cb18ba725fe"
      },
      "source": [
        "cd /content/yolact/                                   # Creating weights folder in yolact\n",
        "!mkdir weights"
      ],
      "execution_count": null,
      "outputs": [
        {
          "output_type": "stream",
          "text": [
            "/content/yolact\n"
          ],
          "name": "stdout"
        }
      ]
    },
    {
      "cell_type": "code",
      "metadata": {
        "colab": {
          "base_uri": "https://localhost:8080/"
        },
        "id": "G3OLKsvzaeUM",
        "outputId": "f00bb1af-e06d-462c-b3be-f68861bc9ad8"
      },
      "source": [
        "cd /content/yolact/"
      ],
      "execution_count": null,
      "outputs": [
        {
          "output_type": "stream",
          "text": [
            "/content/yolact\n"
          ],
          "name": "stdout"
        }
      ]
    },
    {
      "cell_type": "code",
      "metadata": {
        "id": "m27if59aanuJ"
      },
      "source": [
        "def get_path(path):                                  # Getting all image paths of a given dataset from annotations\n",
        "    json_file = os.path.join(path)\n",
        "\n",
        "    with open(json_file) as f:\n",
        "        imgs_anns = json.load(f)\n",
        "\n",
        "    images = imgs_anns[\"images\"]\n",
        "    image_paths = []\n",
        "    for x in images:\n",
        "        image_paths.append(x[\"file_name\"])\n",
        "\n",
        "    return image_paths\n",
        "\n",
        "\n",
        "def move_images(src_file, dst_file, paths):         # Method to move image from one folder to another\n",
        "    for path in paths:\n",
        "        shutil.copy(os.path.join(src_file, path), dst_file)\n"
      ],
      "execution_count": null,
      "outputs": []
    },
    {
      "cell_type": "markdown",
      "metadata": {
        "id": "KP5gj7OV78T1"
      },
      "source": [
        "***Getting three random images from the MsCoco Val 2017 for testing***"
      ]
    },
    {
      "cell_type": "code",
      "metadata": {
        "id": "xSt8V1_l7oFU"
      },
      "source": [
        "json_path = \"/content/drive/MyDrive/instances_val2017.json\"\n",
        "\n",
        "images = get_path(json_path)\n",
        "test_images = []\n",
        "for x in range(3):                                  \n",
        "    img = random.choice(images)\n",
        "    test_images.append(img)                         \n",
        "\n",
        "move_images('/content/drive/MyDrive/voc_train_images', '/content/inference_images', test_images)\n"
      ],
      "execution_count": null,
      "outputs": []
    },
    {
      "cell_type": "markdown",
      "metadata": {
        "id": "UROjQ4vl8DGR"
      },
      "source": [
        "***Getting three random images from the Tiny Voc Dataset for testing***"
      ]
    },
    {
      "cell_type": "code",
      "metadata": {
        "id": "iGTJfFQxatNw"
      },
      "source": [
        "json_path = \"/content/drive/MyDrive/tiny_voc_coco_train.json\"\n",
        "\n",
        "images = get_path(json_path)\n",
        "test_images = []\n",
        "for x in range(3):                                \n",
        "    img = random.choice(images)\n",
        "    test_images.append(img)                        \n",
        "\n",
        "move_images('/content/drive/MyDrive/voc_train_images', '/content/inference_images', test_images)\n"
      ],
      "execution_count": null,
      "outputs": []
    },
    {
      "cell_type": "markdown",
      "metadata": {
        "id": "cZ4T--878dQX"
      },
      "source": [
        "***Run Evaluation for samples***"
      ]
    },
    {
      "cell_type": "code",
      "metadata": {
        "colab": {
          "base_uri": "https://localhost:8080/"
        },
        "id": "_4oOSN3TbC9k",
        "outputId": "efeba9c1-3008-4892-ede1-120b39e0d658"
      },
      "source": [
        "!python eval.py --trained_model=weights/yolact_base_54_800000.pth --score_threshold=0.5 --top_k=15 --images=/content/inference_images:/content/output_images"
      ],
      "execution_count": null,
      "outputs": [
        {
          "output_type": "stream",
          "text": [
            "Config not specified. Parsed yolact_base_config from the file name.\n",
            "\n",
            "/usr/local/lib/python3.7/dist-packages/torch/jit/_recursive.py:202: UserWarning: 'lat_layers' was found in ScriptModule constants,  but it is a non-constant submodule. Consider removing it.\n",
            "  \" but it is a non-constant {}. Consider removing it.\".format(name, hint))\n",
            "/usr/local/lib/python3.7/dist-packages/torch/jit/_recursive.py:202: UserWarning: 'pred_layers' was found in ScriptModule constants,  but it is a non-constant submodule. Consider removing it.\n",
            "  \" but it is a non-constant {}. Consider removing it.\".format(name, hint))\n",
            "/usr/local/lib/python3.7/dist-packages/torch/jit/_recursive.py:202: UserWarning: 'downsample_layers' was found in ScriptModule constants,  but it is a non-constant submodule. Consider removing it.\n",
            "  \" but it is a non-constant {}. Consider removing it.\".format(name, hint))\n",
            "Loading model... Done.\n",
            "\n",
            "/content/inference_images/2010_004226.jpg -> /content/output_images/2010_004226.png\n",
            "/content/inference_images/2008_003676.jpg -> /content/output_images/2008_003676.png\n",
            "/content/inference_images/2011_000585.jpg -> /content/output_images/2011_000585.png\n",
            "Done.\n"
          ],
          "name": "stdout"
        }
      ]
    },
    {
      "cell_type": "code",
      "metadata": {
        "id": "YGTarZ8Iez9l"
      },
      "source": [
        "output_images = Path('/content/output_images')\n",
        "\n",
        "def show_images(img_path):\n",
        "    img = cv2.imread(img_path)\n",
        "    img_cvt = cv2.cvtColor(img, cv2.COLOR_BGR2RGB)\n",
        "    plt.figure(figsize=(16,16))\n",
        "    plt.imshow(img_cvt)\n",
        "    plt.show()\n",
        "\n",
        "for img_path in output_images.iterdir():\n",
        "    print(img_path)\n",
        "    show_images(str(img_path))\n"
      ],
      "execution_count": null,
      "outputs": []
    },
    {
      "cell_type": "markdown",
      "metadata": {
        "id": "zciHaiNa41Y5"
      },
      "source": [
        "***Running evaluation on the entire dataset***\n",
        "\n",
        "If running script, please change the path to the images folder and annotation folder from the config file (yolact/data/config)."
      ]
    },
    {
      "cell_type": "code",
      "metadata": {
        "colab": {
          "base_uri": "https://localhost:8080/"
        },
        "id": "jG_IWhM0hZkf",
        "outputId": "feefedc6-45d0-4871-84fa-673a45e693e5"
      },
      "source": [
        "!python eval.py --trained_model=weights/yolact_base_54_800000.pth --score_threshold=0.5 --top_k=15"
      ],
      "execution_count": null,
      "outputs": [
        {
          "output_type": "stream",
          "text": [
            "Config not specified. Parsed yolact_base_config from the file name.\n",
            "\n",
            "loading annotations into memory...\n",
            "Done (t=0.21s)\n",
            "creating index...\n",
            "index created!\n",
            "/usr/local/lib/python3.7/dist-packages/torch/jit/_recursive.py:202: UserWarning: 'lat_layers' was found in ScriptModule constants,  but it is a non-constant submodule. Consider removing it.\n",
            "  \" but it is a non-constant {}. Consider removing it.\".format(name, hint))\n",
            "/usr/local/lib/python3.7/dist-packages/torch/jit/_recursive.py:202: UserWarning: 'pred_layers' was found in ScriptModule constants,  but it is a non-constant submodule. Consider removing it.\n",
            "  \" but it is a non-constant {}. Consider removing it.\".format(name, hint))\n",
            "/usr/local/lib/python3.7/dist-packages/torch/jit/_recursive.py:202: UserWarning: 'downsample_layers' was found in ScriptModule constants,  but it is a non-constant submodule. Consider removing it.\n",
            "  \" but it is a non-constant {}. Consider removing it.\".format(name, hint))\n",
            "Loading model... Done.\n",
            "\n",
            "Processing Images  ██████████████████████████████   1349 /   1349 (100.00%)     2.54 fps        \n",
            "Saving data...\n",
            "Calculating mAP...\n",
            "\n",
            "       |  all  |  .50  |  .55  |  .60  |  .65  |  .70  |  .75  |  .80  |  .85  |  .90  |  .95  |\n",
            "-------+-------+-------+-------+-------+-------+-------+-------+-------+-------+-------+-------+\n",
            "   box | 15.35 | 21.98 | 21.62 | 20.98 | 20.19 | 19.12 | 17.76 | 14.91 | 11.01 |  5.19 |  0.73 |\n",
            "  mask | 12.82 | 20.35 | 19.54 | 18.59 | 17.23 | 15.87 | 13.71 | 11.24 |  7.52 |  3.64 |  0.55 |\n",
            "-------+-------+-------+-------+-------+-------+-------+-------+-------+-------+-------+-------+\n",
            "\n"
          ],
          "name": "stdout"
        }
      ]
    },
    {
      "cell_type": "code",
      "metadata": {
        "colab": {
          "base_uri": "https://localhost:8080/"
        },
        "id": "7yMp0TRb3xL2",
        "outputId": "9b61be4f-27d5-4e50-f275-f26d7c132875"
      },
      "source": [
        "!python eval.py --trained_model=weights/yolact_base_54_800000.pth --score_threshold=0.5 --top_k=15 --output_coco_json"
      ],
      "execution_count": null,
      "outputs": [
        {
          "output_type": "stream",
          "text": [
            "Config not specified. Parsed yolact_base_config from the file name.\n",
            "\n",
            "loading annotations into memory...\n",
            "Done (t=0.20s)\n",
            "creating index...\n",
            "index created!\n",
            "/usr/local/lib/python3.7/dist-packages/torch/jit/_recursive.py:202: UserWarning: 'lat_layers' was found in ScriptModule constants,  but it is a non-constant submodule. Consider removing it.\n",
            "  \" but it is a non-constant {}. Consider removing it.\".format(name, hint))\n",
            "/usr/local/lib/python3.7/dist-packages/torch/jit/_recursive.py:202: UserWarning: 'pred_layers' was found in ScriptModule constants,  but it is a non-constant submodule. Consider removing it.\n",
            "  \" but it is a non-constant {}. Consider removing it.\".format(name, hint))\n",
            "/usr/local/lib/python3.7/dist-packages/torch/jit/_recursive.py:202: UserWarning: 'downsample_layers' was found in ScriptModule constants,  but it is a non-constant submodule. Consider removing it.\n",
            "  \" but it is a non-constant {}. Consider removing it.\".format(name, hint))\n",
            "Loading model... Done.\n",
            "\n",
            "Processing Images  ██████████████████████████████   1349 /   1349 (100.00%)    13.61 fps        \n",
            "Dumping detections...\n"
          ],
          "name": "stdout"
        }
      ]
    }
  ]
}